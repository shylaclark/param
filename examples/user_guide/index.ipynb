{
 "cells": [
  {
   "cell_type": "markdown",
   "metadata": {},
   "source": [
    "# User Guide"
   ]
  },
  {
   "cell_type": "markdown",
   "metadata": {},
   "source": [
    "This user guide provides a detailed introduction to the API and features\n",
    "of Param. In the [Introduction](Introduction.ipynb) you will learn how to \n",
    "get started with Param and start using it. Next you will learn... \n",
    "\n",
    "-   Introduction: Introduction to Param and how to start using it.\n",
    "-   [Simplifying_Codebases](Simplifying_Codebases.ipynb): How Param allows you to eliminate boilerplate and unsafe code \n",
    "-   Predefined Parameter types: \n",
    "-   Serialization:\n",
    "-   Dependencies and watchers: \n",
    "-   Creating custom parameters and extending param\n",
    "-   Output types and connecting output to Parameter inputs\n",
    "-   Dynamic Parameter values: Using dynamic values with and without Numbergen\n",
    "-   How Param works internally"
   ]
  }
 ],
 "metadata": {
  "language_info": {
   "name": "python",
   "pygments_lexer": "ipython3"
  }
 },
 "nbformat": 4,
 "nbformat_minor": 4
}
